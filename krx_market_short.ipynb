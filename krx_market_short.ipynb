{
 "cells": [
  {
   "cell_type": "code",
   "execution_count": 1,
   "metadata": {
    "collapsed": true
   },
   "outputs": [],
   "source": [
    "import pandas as pd\n",
    "import requests\n",
    "from bs4 import BeautifulSoup as bs\n",
    "from io import BytesIO\n",
    "from datetime import datetime,timedelta\n",
    "from dateutil.relativedelta import relativedelta\n",
    "import sqlite3"
   ]
  },
  {
   "cell_type": "code",
   "execution_count": 2,
   "metadata": {
    "collapsed": true
   },
   "outputs": [],
   "source": [
    "def get_market_short(market, end_date=None ,start_date=None ):\n",
    "    market_dict={'kospi':'1','kospi_prod':'2','kosdaq':'3'}\n",
    "    market_code=market_dict[market]\n",
    "    if start_date is not None and end_date is None:\n",
    "        end_date = (datetime.strptime(start_date, '%Y%m%d')+relativedelta(months=3)-relativedelta(days=1)).strftime('%Y%m%d')\n",
    "    if start_date is None and end_date is None:\n",
    "        end_date =datetime.today().strftime('%Y%m%d')\n",
    "        start_date =(datetime.strptime(end_date, '%Y%m%d')-relativedelta(months=3)).strftime('%Y%m%d')\n",
    "    if start_date is None and end_date is not None:\n",
    "        start_date = (datetime.strptime(end_date, '%Y%m%d')-relativedelta(months=3)).strftime('%Y%m%d')\n",
    "    gen_otp_url='http://short.krx.co.kr/contents/COM/GenerateOTP.jspx'\n",
    "    gen_otp_data={\n",
    "        'name':'fileDown',\n",
    "        'filetype':'xls',\n",
    "        'url':'SRT/02/02020100/srt02020100',\n",
    "        'mkt_tp_cd':market_code,\n",
    "        'isu_cdnm':'전체',\n",
    "        'isu_cd': '',\n",
    "        'isu_nm': '',\n",
    "        'isu_srt_cd':'', \n",
    "        'strt_dd':start_date,\n",
    "        'end_dd':end_date,\n",
    "        'pagePath':'/contents/SRT/02/02020100/SRT02020100.jsp',\n",
    "    }\n",
    "    r = requests.post(gen_otp_url, gen_otp_data)\n",
    "    code = r.content\n",
    "\n",
    "    down_url = 'http://file.krx.co.kr/download.jspx'\n",
    "    down_data = {\n",
    "        'code':code,\n",
    "    }\n",
    "\n",
    "    r=requests.post(down_url,down_data)\n",
    "    r.encoding = \"utf-8-sig\"\n",
    "    df = pd.read_excel(BytesIO(r.content), header=0, thousands=',')\n",
    "    df.columns = ['date','code','name','short_volumes','total_volumes',\n",
    "        'weight(%)', 'short_values','total_values','weight(%)']\n",
    "    df['code'] = list(map(lambda v : v[3:9], df['code']))\n",
    "    \n",
    "    return df"
   ]
  },
  {
   "cell_type": "code",
   "execution_count": 3,
   "metadata": {
    "scrolled": false
   },
   "outputs": [
    {
     "data": {
      "text/html": [
       "<div>\n",
       "<style>\n",
       "    .dataframe thead tr:only-child th {\n",
       "        text-align: right;\n",
       "    }\n",
       "\n",
       "    .dataframe thead th {\n",
       "        text-align: left;\n",
       "    }\n",
       "\n",
       "    .dataframe tbody tr th {\n",
       "        vertical-align: top;\n",
       "    }\n",
       "</style>\n",
       "<table border=\"1\" class=\"dataframe\">\n",
       "  <thead>\n",
       "    <tr style=\"text-align: right;\">\n",
       "      <th></th>\n",
       "      <th>date</th>\n",
       "      <th>code</th>\n",
       "      <th>name</th>\n",
       "      <th>short_volumes</th>\n",
       "      <th>total_volumes</th>\n",
       "      <th>weight(%)</th>\n",
       "      <th>short_values</th>\n",
       "      <th>total_values</th>\n",
       "      <th>weight(%)</th>\n",
       "    </tr>\n",
       "  </thead>\n",
       "  <tbody>\n",
       "    <tr>\n",
       "      <th>20984</th>\n",
       "      <td>2018/09/03</td>\n",
       "      <td>069260</td>\n",
       "      <td>휴켐스</td>\n",
       "      <td>808</td>\n",
       "      <td>71629</td>\n",
       "      <td>1.13</td>\n",
       "      <td>20359900</td>\n",
       "      <td>1800778050</td>\n",
       "      <td>1.13</td>\n",
       "    </tr>\n",
       "    <tr>\n",
       "      <th>20985</th>\n",
       "      <td>2018/09/03</td>\n",
       "      <td>000540</td>\n",
       "      <td>흥국화재</td>\n",
       "      <td>1310</td>\n",
       "      <td>35339</td>\n",
       "      <td>3.71</td>\n",
       "      <td>7833890</td>\n",
       "      <td>211785870</td>\n",
       "      <td>3.70</td>\n",
       "    </tr>\n",
       "    <tr>\n",
       "      <th>20986</th>\n",
       "      <td>2018/09/03</td>\n",
       "      <td>000542</td>\n",
       "      <td>흥국화재2우B</td>\n",
       "      <td>0</td>\n",
       "      <td>2187</td>\n",
       "      <td>0.00</td>\n",
       "      <td>0</td>\n",
       "      <td>64637350</td>\n",
       "      <td>0.00</td>\n",
       "    </tr>\n",
       "    <tr>\n",
       "      <th>20987</th>\n",
       "      <td>2018/09/03</td>\n",
       "      <td>000541</td>\n",
       "      <td>흥국화재우</td>\n",
       "      <td>0</td>\n",
       "      <td>2629</td>\n",
       "      <td>0.00</td>\n",
       "      <td>0</td>\n",
       "      <td>14880480</td>\n",
       "      <td>0.00</td>\n",
       "    </tr>\n",
       "    <tr>\n",
       "      <th>20988</th>\n",
       "      <td>2018/09/03</td>\n",
       "      <td>003280</td>\n",
       "      <td>흥아해운</td>\n",
       "      <td>2335</td>\n",
       "      <td>488680</td>\n",
       "      <td>0.48</td>\n",
       "      <td>1276223</td>\n",
       "      <td>266827821</td>\n",
       "      <td>0.48</td>\n",
       "    </tr>\n",
       "  </tbody>\n",
       "</table>\n",
       "</div>"
      ],
      "text/plain": [
       "             date    code     name  short_volumes  total_volumes  weight(%)  \\\n",
       "20984  2018/09/03  069260      휴켐스            808          71629       1.13   \n",
       "20985  2018/09/03  000540     흥국화재           1310          35339       3.71   \n",
       "20986  2018/09/03  000542  흥국화재2우B              0           2187       0.00   \n",
       "20987  2018/09/03  000541    흥국화재우              0           2629       0.00   \n",
       "20988  2018/09/03  003280     흥아해운           2335         488680       0.48   \n",
       "\n",
       "       short_values  total_values  weight(%)  \n",
       "20984      20359900    1800778050       1.13  \n",
       "20985       7833890     211785870       3.70  \n",
       "20986             0      64637350       0.00  \n",
       "20987             0      14880480       0.00  \n",
       "20988       1276223     266827821       0.48  "
      ]
     },
     "execution_count": 3,
     "metadata": {},
     "output_type": "execute_result"
    }
   ],
   "source": [
    "today=datetime.strftime(datetime.today().date(), '%Y%m%d')\n",
    "fromdate='20180901'\n",
    "df = get_market_short('kospi',None,fromdate)\n",
    "\n",
    "df.tail()"
   ]
  },
  {
   "cell_type": "code",
   "execution_count": 4,
   "metadata": {
    "collapsed": true
   },
   "outputs": [],
   "source": [
    "def update():\n",
    "    con = sqlite3.connect('D:\\croling/short_data.db')\n",
    "    cur = con.cursor()\n",
    "    insert_update_sql=\"\"\"INSERT INTO short_data VALUES(?,?,?,?,?,?,?,?,?)\"\"\"\n",
    "    fromdate='20001201'#공매도 거래가 있던 첫일의 한달 전\n",
    "    today=datetime.strftime(datetime.today().date(), '%Y%m%d')\n",
    "    while fromdate < today:\n",
    "        fromdate=((datetime.strptime(fromdate, '%Y%m%d'))+relativedelta(months=1)).strftime('%Y%m%d')\n",
    "        df=get_market_short('kospi',None,fromdate)\n",
    "        for idx, r in df.iterrows():\n",
    "            cur.execute(insert_update_sql,r)\n",
    "            \n",
    "    con.commit()\n",
    "    con.close()\n",
    "\n",
    "\n",
    "\n"
   ]
  },
  {
   "cell_type": "code",
   "execution_count": 6,
   "metadata": {},
   "outputs": [],
   "source": [
    "a = update()"
   ]
  },
  {
   "cell_type": "code",
   "execution_count": null,
   "metadata": {
    "collapsed": true
   },
   "outputs": [],
   "source": []
  },
  {
   "cell_type": "code",
   "execution_count": null,
   "metadata": {
    "collapsed": true
   },
   "outputs": [],
   "source": []
  },
  {
   "cell_type": "code",
   "execution_count": null,
   "metadata": {
    "collapsed": true
   },
   "outputs": [],
   "source": []
  }
 ],
 "metadata": {
  "kernelspec": {
   "display_name": "Python 3",
   "language": "python",
   "name": "python3"
  },
  "language_info": {
   "codemirror_mode": {
    "name": "ipython",
    "version": 3
   },
   "file_extension": ".py",
   "mimetype": "text/x-python",
   "name": "python",
   "nbconvert_exporter": "python",
   "pygments_lexer": "ipython3",
   "version": "3.6.2"
  }
 },
 "nbformat": 4,
 "nbformat_minor": 2
}
